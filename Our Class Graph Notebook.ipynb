{
 "cells": [
  {
   "cell_type": "markdown",
   "metadata": {},
   "source": [
    "# Class Graph Activity"
   ]
  },
  {
   "cell_type": "code",
   "execution_count": 1,
   "metadata": {},
   "outputs": [],
   "source": [
    "import numpy as np\n",
    "import pandas as pd\n",
    "import networkx as nx\n",
    "import matplotlib.pyplot as plt"
   ]
  },
  {
   "cell_type": "markdown",
   "metadata": {},
   "source": [
    "# Task 1: Import responses"
   ]
  },
  {
   "cell_type": "code",
   "execution_count": 2,
   "metadata": {},
   "outputs": [
    {
     "data": {
      "text/html": [
       "<div>\n",
       "<style scoped>\n",
       "    .dataframe tbody tr th:only-of-type {\n",
       "        vertical-align: middle;\n",
       "    }\n",
       "\n",
       "    .dataframe tbody tr th {\n",
       "        vertical-align: top;\n",
       "    }\n",
       "\n",
       "    .dataframe thead th {\n",
       "        text-align: right;\n",
       "    }\n",
       "</style>\n",
       "<table border=\"1\" class=\"dataframe\">\n",
       "  <thead>\n",
       "    <tr style=\"text-align: right;\">\n",
       "      <th></th>\n",
       "      <th>Timestamp</th>\n",
       "      <th>What is your name?</th>\n",
       "      <th>Which other students have you talked to in the past week?</th>\n",
       "    </tr>\n",
       "  </thead>\n",
       "  <tbody>\n",
       "    <tr>\n",
       "      <th>0</th>\n",
       "      <td>4/18/2019 13:23</td>\n",
       "      <td>Student 1</td>\n",
       "      <td>Student 2, Student 3, Student 5</td>\n",
       "    </tr>\n",
       "    <tr>\n",
       "      <th>1</th>\n",
       "      <td>4/18/2019 13:24</td>\n",
       "      <td>Student 2</td>\n",
       "      <td>Student 1, Student 2, Student 3</td>\n",
       "    </tr>\n",
       "    <tr>\n",
       "      <th>2</th>\n",
       "      <td>4/18/2019 13:24</td>\n",
       "      <td>Student 3</td>\n",
       "      <td>Student 1, Student 4, Student 5</td>\n",
       "    </tr>\n",
       "    <tr>\n",
       "      <th>3</th>\n",
       "      <td>4/18/2019 13:24</td>\n",
       "      <td>Student 4</td>\n",
       "      <td>Student 1, Student 2, Student 3, Student 4, St...</td>\n",
       "    </tr>\n",
       "    <tr>\n",
       "      <th>4</th>\n",
       "      <td>4/18/2019 13:24</td>\n",
       "      <td>Student 5</td>\n",
       "      <td>Student 4</td>\n",
       "    </tr>\n",
       "    <tr>\n",
       "      <th>5</th>\n",
       "      <td>4/18/2019 13:24</td>\n",
       "      <td>Student 5</td>\n",
       "      <td>Student 4</td>\n",
       "    </tr>\n",
       "  </tbody>\n",
       "</table>\n",
       "</div>"
      ],
      "text/plain": [
       "         Timestamp What is your name?  \\\n",
       "0  4/18/2019 13:23          Student 1   \n",
       "1  4/18/2019 13:24          Student 2   \n",
       "2  4/18/2019 13:24          Student 3   \n",
       "3  4/18/2019 13:24          Student 4   \n",
       "4  4/18/2019 13:24          Student 5   \n",
       "5  4/18/2019 13:24          Student 5   \n",
       "\n",
       "  Which other students have you talked to in the past week?  \n",
       "0                    Student 2, Student 3, Student 5         \n",
       "1                    Student 1, Student 2, Student 3         \n",
       "2                    Student 1, Student 4, Student 5         \n",
       "3  Student 1, Student 2, Student 3, Student 4, St...         \n",
       "4                                          Student 4         \n",
       "5                                          Student 4         "
      ]
     },
     "execution_count": 2,
     "metadata": {},
     "output_type": "execute_result"
    }
   ],
   "source": [
    "#Read CSV\n",
    "resps = pd.read_csv('our_class_graph_data.csv')\n",
    "\n",
    "#Display contents\n",
    "resps"
   ]
  },
  {
   "cell_type": "markdown",
   "metadata": {},
   "source": [
    "# Task 2: Scrub responses for use with NetworkX"
   ]
  },
  {
   "cell_type": "code",
   "execution_count": 3,
   "metadata": {},
   "outputs": [
    {
     "name": "stdout",
     "output_type": "stream",
     "text": [
      "   Respondent    Contact\n",
      "0   Student 1  Student 2\n",
      "1   Student 1  Student 3\n",
      "2   Student 1  Student 5\n",
      "3   Student 2  Student 1\n",
      "4   Student 2  Student 3\n",
      "5   Student 3  Student 1\n",
      "6   Student 3  Student 4\n",
      "7   Student 3  Student 5\n",
      "8   Student 4  Student 1\n",
      "9   Student 4  Student 2\n",
      "10  Student 4  Student 3\n",
      "11  Student 4  Student 5\n",
      "12  Student 5  Student 4\n"
     ]
    }
   ],
   "source": [
    "#Use loop to add connections to new edges_df DataFrame\n",
    "\n",
    "#Create new dataframe to put edges into\n",
    "edges_df = pd.DataFrame(columns=['Respondent', 'Contact'])\n",
    "\n",
    "\n",
    "#Create list of students\n",
    "students = resps['What is your name?'].unique()\n",
    "\n",
    "#Loop through students\n",
    "for respondent in students:\n",
    "    \n",
    "    #Subset dataframe to responses from the one respondent\n",
    "    resp_df = resps[resps['What is your name?'] == respondent]\n",
    "    \n",
    "    #Extract contact responses \n",
    "    contact_vals = resp_df['Which other students have you talked to in the past week?'].values\n",
    "    \n",
    "    #Loop through contact responses\n",
    "    for contact in students:\n",
    "        \n",
    "        #Exclude self-connections\n",
    "        if (respondent == contact):\n",
    "            continue\n",
    "        \n",
    "        #Loop through responses looking for a match with contact, then exit loop\n",
    "        for resp in contact_vals:\n",
    "            if contact in resp:\n",
    "                edges_df = edges_df.append(pd.DataFrame({'Respondent': respondent, 'Contact': contact}, index = [0]), ignore_index = True)\n",
    "                break\n",
    "                \n",
    "#Display scrubbed dataframe                \n",
    "print(edges_df)\n",
    "\n",
    "#Create edge list for use with NetworkX\n",
    "edges_list = list(edges_df.itertuples(index=False, name=None))"
   ]
  },
  {
   "cell_type": "markdown",
   "metadata": {},
   "source": [
    "# Task 3: Use NetworkX to visualize the network"
   ]
  },
  {
   "cell_type": "markdown",
   "metadata": {},
   "source": [
    "Draw both a directed graph and an undirected graph. We will use the undirected graph for the rest of the activity."
   ]
  },
  {
   "cell_type": "code",
   "execution_count": 4,
   "metadata": {},
   "outputs": [
    {
     "data": {
      "image/png": "[encoded data removed]",
      "text/plain": [
       "<Figure size 432x288 with 1 Axes>"
      ]
     },
     "metadata": {},
     "output_type": "display_data"
    }
   ],
   "source": [
    "#Directed Graph\n"
   ]
  },
  {
   "cell_type": "code",
   "execution_count": 55,
   "metadata": {},
   "outputs": [
    {
     "data": {
      "image/png": "[encoded data removed]",
      "text/plain": [
       "<Figure size 432x288 with 1 Axes>"
      ]
     },
     "metadata": {},
     "output_type": "display_data"
    }
   ],
   "source": [
    "#Undirected Graph\n"
   ]
  },
  {
   "cell_type": "markdown",
   "metadata": {},
   "source": [
    "# Task 4: Explore the Network"
   ]
  },
  {
   "cell_type": "markdown",
   "metadata": {},
   "source": [
    "_Use the undirected graph to answer the questions below._"
   ]
  },
  {
   "cell_type": "markdown",
   "metadata": {},
   "source": [
    "**Question 1:** How many students are in the class? Use the graph object to output the answer."
   ]
  },
  {
   "cell_type": "code",
   "execution_count": null,
   "metadata": {},
   "outputs": [],
   "source": []
  },
  {
   "cell_type": "markdown",
   "metadata": {},
   "source": [
    "**Question 2:** How many connections are there between students in the class? Use the graph object to output the answer."
   ]
  },
  {
   "cell_type": "code",
   "execution_count": null,
   "metadata": {},
   "outputs": [],
   "source": []
  },
  {
   "cell_type": "markdown",
   "metadata": {},
   "source": [
    "**Question 3:** How well connected is the class as a whole?"
   ]
  },
  {
   "cell_type": "code",
   "execution_count": null,
   "metadata": {},
   "outputs": [],
   "source": []
  },
  {
   "cell_type": "markdown",
   "metadata": {},
   "source": []
  },
  {
   "cell_type": "markdown",
   "metadata": {},
   "source": [
    "**Question 4:** Can you find any distinguishable sub-groups or cliques within our class?"
   ]
  },
  {
   "cell_type": "code",
   "execution_count": null,
   "metadata": {},
   "outputs": [],
   "source": []
  },
  {
   "cell_type": "markdown",
   "metadata": {},
   "source": []
  },
  {
   "cell_type": "markdown",
   "metadata": {},
   "source": [
    "**Question 5:** Who are the most and least \"connected\" students in this graph? Explain how you defined \"connected\", and what the implications are for the students you identified."
   ]
  },
  {
   "cell_type": "code",
   "execution_count": null,
   "metadata": {},
   "outputs": [],
   "source": []
  },
  {
   "cell_type": "markdown",
   "metadata": {},
   "source": []
  },
  {
   "cell_type": "markdown",
   "metadata": {},
   "source": [
    "# Task 5: Implications"
   ]
  },
  {
   "cell_type": "markdown",
   "metadata": {},
   "source": [
    "**Question 6:** As your instructor, I am interested in improving our class cohesion. What recommendations might you make to me based on these findings?"
   ]
  },
  {
   "cell_type": "markdown",
   "metadata": {},
   "source": []
  },
  {
   "cell_type": "markdown",
   "metadata": {},
   "source": [
    "# Level Up: Explore your ego network"
   ]
  },
  {
   "cell_type": "markdown",
   "metadata": {},
   "source": [
    "Graph your ego network with radius 2"
   ]
  },
  {
   "cell_type": "code",
   "execution_count": null,
   "metadata": {},
   "outputs": [],
   "source": []
  },
  {
   "cell_type": "markdown",
   "metadata": {},
   "source": [
    "**Question 7:** How well connected is your ego network?"
   ]
  },
  {
   "cell_type": "code",
   "execution_count": null,
   "metadata": {},
   "outputs": [],
   "source": []
  },
  {
   "cell_type": "markdown",
   "metadata": {},
   "source": []
  },
  {
   "cell_type": "markdown",
   "metadata": {},
   "source": [
    "# Hints"
   ]
  },
  {
   "cell_type": "markdown",
   "metadata": {},
   "source": [
    "*Task 3:* \n",
    "```\n",
    "#Directed Graph\n",
    "DG = nx.DiGraph()\n",
    "DG.add_edges_from(edges_list)\n",
    "nx.draw(DG, with_labels=True)\n",
    "plt.show()\n",
    "\n",
    "#Undirected Graph\n",
    "GA = nx.from_edgelist(edges_list)\n",
    "nx.draw(GA, with_labels=True)\n",
    "plt.show()\n",
    "```"
   ]
  },
  {
   "cell_type": "markdown",
   "metadata": {},
   "source": [
    "*Q1:* ```print(len(GA.nodes))```"
   ]
  },
  {
   "cell_type": "markdown",
   "metadata": {},
   "source": [
    "*Q2:* ```print(len(GA.edges))```"
   ]
  },
  {
   "cell_type": "markdown",
   "metadata": {},
   "source": [
    "*Q3:* Some approaches to this could be to look at whether the graph is connected, the number of nodes/edges, the network density, or the longest of the shortest paths between two students."
   ]
  },
  {
   "cell_type": "markdown",
   "metadata": {},
   "source": [
    "*Q4:* The Girvan-Newman algorithm might be helpful here. You can look at the results of the first iteration, or you can look at later iterations. Then compare the results with the visualized graph to determine if you think the algorithm worked well."
   ]
  },
  {
   "cell_type": "markdown",
   "metadata": {},
   "source": [
    "*Q5:* Measures of centrality are useful here - you'll need to pick one that you think best captures the notion of being \"connected\". Or you can look at multiple measures if you have trouble deciding."
   ]
  },
  {
   "cell_type": "markdown",
   "metadata": {},
   "source": [
    "*Q7:* Look at the clustering coefficient for your ego network"
   ]
  }
 ],
 "metadata": {
  "kernelspec": {
   "display_name": "Python 3",
   "language": "python",
   "name": "python3"
  },
  "language_info": {
   "codemirror_mode": {
    "name": "ipython",
    "version": 3
   },
   "file_extension": ".py",
   "mimetype": "text/x-python",
   "name": "python",
   "nbconvert_exporter": "python",
   "pygments_lexer": "ipython3",
   "version": "3.7.0"
  }
 },
 "nbformat": 4,
 "nbformat_minor": 2
}
